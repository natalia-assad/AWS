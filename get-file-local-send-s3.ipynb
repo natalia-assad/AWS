{
 "cells": [
  {
   "cell_type": "markdown",
   "metadata": {},
   "source": [
    "Código que encontra os arquivos salvos localmente e dependendo do nome envia para determinado bucket do s3"
   ]
  },
  {
   "cell_type": "code",
   "execution_count": null,
   "metadata": {},
   "outputs": [],
   "source": [
    "import os\n",
    "from io import BytesIO\n",
    "import pandas as pd\n",
    "\n",
    "#Conexão ao S3\n",
    "import boto3\n",
    "from botocore.exceptions import ClientError\n",
    "import logging"
   ]
  },
  {
   "cell_type": "code",
   "execution_count": null,
   "metadata": {},
   "outputs": [],
   "source": [
    "#Conexão ao S3\n",
    "\n",
    "s3_client = boto3.client(\"s3\")"
   ]
  },
  {
   "cell_type": "code",
   "execution_count": null,
   "metadata": {},
   "outputs": [],
   "source": [
    "for raiz, diretorios, arquivos in os.walk(r\"caminho-folder\"):\n",
    "    for arquivo in arquivos:\n",
    "\n",
    "        \n",
    "        if 'filename1' in arquivo:\n",
    "            caminho_completo = os.path.join(raiz,arquivo)\n",
    "            nome=arquivo\n",
    "            s3_client.upload_file(r'{}'.format(caminho_completo),\n",
    "                    'name-bucket',\n",
    "                    'filename1/{arquivo}'.format(arquivo=nome))\n",
    "\n",
    "            print('Enviado {} ao bucket'.format(nome))\n",
    "\n",
    "        \n",
    "        if 'filename2' in arquivo:\n",
    "            caminho_completo = os.path.join(raiz,arquivo)\n",
    "            nome=arquivo\n",
    "            s3_client.upload_file(r'{}'.format(caminho_completo),\n",
    "                    'name-bucket',\n",
    "                    'filename1/{arquivo}'.format(arquivo=nome))\n",
    "\n",
    "            print('Enviado {} ao bucket'.format(nome))\n",
    "        \n",
    "       \n",
    "        if 'filename3' in arquivo:\n",
    "            caminho_completo = os.path.join(raiz,arquivo)\n",
    "            nome=arquivo\n",
    "            s3_client.upload_file(r'{}'.format(caminho_completo),\n",
    "                    'name-bucket',\n",
    "                    'saxobank/filename3/{arquivo}'.format(arquivo=nome))\n",
    "\n",
    "            print('Enviado {} ao bucket'.format(nome))\n"
   ]
  },
  {
   "cell_type": "code",
   "execution_count": null,
   "metadata": {},
   "outputs": [],
   "source": []
  }
 ],
 "metadata": {
  "kernelspec": {
   "display_name": "Python 3.9.13 ('base')",
   "language": "python",
   "name": "python3"
  },
  "language_info": {
   "codemirror_mode": {
    "name": "ipython",
    "version": 3
   },
   "file_extension": ".py",
   "mimetype": "text/x-python",
   "name": "python",
   "nbconvert_exporter": "python",
   "pygments_lexer": "ipython3",
   "version": "3.9.13"
  },
  "orig_nbformat": 4,
  "vscode": {
   "interpreter": {
    "hash": "85b31755cbf75356c393a3522367cd288f0b05170e2bd292c75b11fc3d2da2cf"
   }
  }
 },
 "nbformat": 4,
 "nbformat_minor": 2
}
