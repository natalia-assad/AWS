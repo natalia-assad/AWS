{
 "cells": [
  {
   "cell_type": "markdown",
   "metadata": {},
   "source": [
    "O Boto3 é a biblioteca oficial da AWS (Amazon Web Services) para Python, projetada para facilitar a interação com os serviços da AWS de forma programática"
   ]
  },
  {
   "cell_type": "markdown",
   "metadata": {},
   "source": [
    "Session: Uma Session é usada para configurar as opções padrão para comunicação com os serviços da AWS.\n",
    "\n",
    "Client: Um Client é usado para interagir com um serviço específico da AWS (por exemplo, S3, EC2, DynamoDB). Ele herda as configurações da sessão, mas você também pode especificar configurações específicas do serviço ao criar o client."
   ]
  },
  {
   "cell_type": "markdown",
   "metadata": {},
   "source": [
    "# Carregar arquivo no S3"
   ]
  },
  {
   "cell_type": "markdown",
   "metadata": {},
   "source": [
    "put_object: O método put_object envia um objeto (arquivo) diretamente ao S3 a partir de um fluxo de bytes ou um arquivo aberto. É útil quando você já tem os dados em memória ou em um arquivo aberto que pode ser lido.\n",
    "\n",
    "upload_file: O método upload_file carrega um arquivo local para o S3. Ele lida com a abertura e a leitura do arquivo para você, facilitando o processo de upload de arquivos locais.\n",
    "\n",
    "Em resumo, use put_object quando você já tem os dados em memória ou em um arquivo aberto e quer enviar diretamente para o S3. Use upload_file quando você quer carregar um arquivo local para o S3 e não quer lidar com a abertura e a leitura do arquivo manualmente."
   ]
  },
  {
   "cell_type": "code",
   "execution_count": 19,
   "metadata": {},
   "outputs": [
    {
     "data": {
      "text/plain": [
       "{'ResponseMetadata': {'RequestId': 'M14MPXQ6FPRH6MED',\n",
       "  'HostId': 'eKApK1xM8zzHT0xXrDQVsMgVpStHw84Npr9m6jZx96wH26I4fixgCGxx/P7skP1Boi6w1YOnRFI=',\n",
       "  'HTTPStatusCode': 200,\n",
       "  'HTTPHeaders': {'x-amz-id-2': 'eKApK1xM8zzHT0xXrDQVsMgVpStHw84Npr9m6jZx96wH26I4fixgCGxx/P7skP1Boi6w1YOnRFI=',\n",
       "   'x-amz-request-id': 'M14MPXQ6FPRH6MED',\n",
       "   'date': 'Fri, 24 May 2024 21:48:26 GMT',\n",
       "   'x-amz-server-side-encryption': 'AES256',\n",
       "   'etag': '\"3e9e21bfeb4b98ee196fca14bdb8e46d\"',\n",
       "   'server': 'AmazonS3',\n",
       "   'content-length': '0'},\n",
       "  'RetryAttempts': 0},\n",
       " 'ETag': '\"3e9e21bfeb4b98ee196fca14bdb8e46d\"',\n",
       " 'ServerSideEncryption': 'AES256'}"
      ]
     },
     "execution_count": 19,
     "metadata": {},
     "output_type": "execute_result"
    }
   ],
   "source": [
    "import pandas as pd\n",
    "import boto3\n",
    "from io import StringIO\n",
    "#vamos criar um df de exemplo\n",
    "data = {'id': [1, 2, 3, 4, 5],\n",
    "        'nome': ['Alice', 'Bob', 'Charlie', 'David', 'Eve']}\n",
    "df = pd.DataFrame(data)\n",
    "# Convertendo o DataFrame para CSV em memória\n",
    "csv_buffer = StringIO()\n",
    "df.to_csv(csv_buffer, index=False)\n",
    "# Carregar as credenciais e criar um cliente S3\n",
    "#(carrego diretamente pois meu aws cli ja esta configurado \"aws configure\")\n",
    "session = boto3.Session()\n",
    "s3_client = session.client('s3')\n",
    "# Especificar o nome do bucket e o nome do arquivo no S3\n",
    "bucket_name = 'bucket-create-by-dev1'\n",
    "file_name = 'tabela.csv'\n",
    "# Carregar o arquivo CSV para o S3\n",
    "s3_client.put_object(Bucket=bucket_name, Key=file_name, Body=csv_buffer.getvalue())"
   ]
  },
  {
   "cell_type": "code",
   "execution_count": 24,
   "metadata": {},
   "outputs": [],
   "source": [
    "s3_client.upload_file('local_file.txt', bucket_name, 'remote_file.txt')\n"
   ]
  },
  {
   "cell_type": "code",
   "execution_count": null,
   "metadata": {},
   "outputs": [],
   "source": []
  }
 ],
 "metadata": {
  "kernelspec": {
   "display_name": "base",
   "language": "python",
   "name": "python3"
  },
  "language_info": {
   "codemirror_mode": {
    "name": "ipython",
    "version": 3
   },
   "file_extension": ".py",
   "mimetype": "text/x-python",
   "name": "python",
   "nbconvert_exporter": "python",
   "pygments_lexer": "ipython3",
   "version": "3.9.13"
  }
 },
 "nbformat": 4,
 "nbformat_minor": 2
}
