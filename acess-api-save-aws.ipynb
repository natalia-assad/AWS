{
 "cells": [
  {
   "cell_type": "markdown",
   "metadata": {},
   "source": [
    "Código que acessa uma api e salva arquivo json no bucket do s3"
   ]
  },
  {
   "cell_type": "code",
   "execution_count": 1,
   "metadata": {},
   "outputs": [],
   "source": [
    "import io\n",
    "import boto3\n",
    "import pandas as pd\n",
    "import json"
   ]
  },
  {
   "cell_type": "code",
   "execution_count": 2,
   "metadata": {},
   "outputs": [],
   "source": [
    "#Conexão ao S3\n",
    "\n",
    "s3_client = boto3.client(\"s3\",\n",
    "aws_access_key_id = 'aws_access_key_id',\n",
    "aws_secret_access_key= 'aws_secret_access_key+5')"
   ]
  },
  {
   "cell_type": "code",
   "execution_count": 3,
   "metadata": {},
   "outputs": [],
   "source": [
    "import requests\n",
    "\n",
    "url = \"https://api.api-futebol.com.br/v1/campeonatos/{campeonato_id}/artilharia\"\n",
    "access_token = 'token'\n",
    "\n",
    "results = requests.get(url,headers={'Content-Type':'application/json',\n",
    "                    'Authorization':'Bearer {}'.format(access_token)}).content"
   ]
  },
  {
   "cell_type": "markdown",
   "metadata": {},
   "source": [
    "o results é obtido em bytes e não textual. O arquivo é escrito dentro do bucket do s3 através da biblioteca io"
   ]
  },
  {
   "cell_type": "code",
   "execution_count": null,
   "metadata": {},
   "outputs": [],
   "source": [
    "with io.BytesIO() as f:\n",
    "    f.write(results)\n",
    "    f.seek(0)\n",
    "    s3_client.upload_fileobj(f,\n",
    "                'name-bucket',\n",
    "                'filename.json')"
   ]
  }
 ],
 "metadata": {
  "kernelspec": {
   "display_name": "Python 3.9.13 ('base')",
   "language": "python",
   "name": "python3"
  },
  "language_info": {
   "codemirror_mode": {
    "name": "ipython",
    "version": 3
   },
   "file_extension": ".py",
   "mimetype": "text/x-python",
   "name": "python",
   "nbconvert_exporter": "python",
   "pygments_lexer": "ipython3",
   "version": "3.9.13"
  },
  "orig_nbformat": 4,
  "vscode": {
   "interpreter": {
    "hash": "85b31755cbf75356c393a3522367cd288f0b05170e2bd292c75b11fc3d2da2cf"
   }
  }
 },
 "nbformat": 4,
 "nbformat_minor": 2
}
